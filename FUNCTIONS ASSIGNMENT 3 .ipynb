{
  "metadata": {
    "kernelspec": {
      "name": "python",
      "display_name": "Python (Pyodide)",
      "language": "python"
    },
    "language_info": {
      "codemirror_mode": {
        "name": "python",
        "version": 3
      },
      "file_extension": ".py",
      "mimetype": "text/x-python",
      "name": "python",
      "nbconvert_exporter": "python",
      "pygments_lexer": "ipython3",
      "version": "3.8"
    }
  },
  "nbformat_minor": 5,
  "nbformat": 4,
  "cells": [
    {
      "id": "5800acbe-f781-4742-bd7e-24f4f83c0f24",
      "cell_type": "markdown",
      "source": "THEORY QUESTIONS",
      "metadata": {}
    },
    {
      "id": "78c1cbf8-00ce-41b5-a8d1-ed2392221033",
      "cell_type": "markdown",
      "source": "Q.1 What is the difference between a function and a method in Python?\n\nANS - ",
      "metadata": {}
    },
    {
      "id": "adb98aec-6c96-47ff-9ff4-26f977e1d411",
      "cell_type": "markdown",
      "source": "A function in Python is a block of reusable code that performs a specific task. It is defined using the def keyword and can be called independently without being tied to any object. For example:\n\ndef greet(name):\n    return f\"Hello, {name}!\"\n\nA method, on the other hand, is a function that is associated with an object and is called on that object. Methods are defined within a class and typically operate on the data contained in the object. For example:\n\nclass Person:\n    def __init__(self, name):\n        self.name = name\n\n    def greet(self):\n        return f\"Hello, {self.name}!\"\n\nperson = Person(\"Alice\")\nprint(person.greet())  # greet() is a method\n\nKey Differences:\n\t1. Association:\n\t\t* Functions are standalone and not tied to any object.\n\t\t* Methods are associated with objects and are called on them.\n\t2. Definition:\n\t\t* Functions are defined using the def keyword outside of a class.\n\t\t* Methods are defined within a class.\n\t3. Calling:\n\t\t* Functions are called directly by their name (e.g., greet(\"Alice\")).\n\t\t* Methods are called on an object (e.g., person.greet()).\n\t4. Context:\n\t\t* Functions do not have access to the instance or class data unless explicitly passed.\n\t\t* Methods implicitly receive the instance (self) or class (cls) as their first argument, allowing them to access and modify the object’s attributes.",
      "metadata": {}
    },
    {
      "id": "4319428e-8aea-421d-889a-e7f9fe7e5c69",
      "cell_type": "markdown",
      "source": " Q2. Explain the concept of function arguments and parameters in Python.\n\n ANS -",
      "metadata": {}
    },
    {
      "id": "deb43441-846d-490c-a266-04f23988700c",
      "cell_type": "markdown",
      "source": "In Python, parameters and arguments are integral to defining and calling functions. Here's a breakdown:\n\n\t1. Parameters:\n\t\t* These are the variables listed inside the parentheses in the function definition.\n\t\t* They act as placeholders for the values that the function expects when it is called.\n\t\t* Example:\n\ndef greet(name):  # 'name' is a parameter\n    return f\"Hello, {name}!\"\n\n\t2. Arguments:\n\t\t* These are the actual values or data you pass to the function when calling it.\n\t\t* They replace the parameters in the function definition.\n\t\t* Example:\n\nprint(greet(\"Alice\"))  # \"Alice\" is an argument\n\n\nTypes of Arguments in Python:\n\t* Positional Arguments:\n\t\t* Passed in the same order as the parameters are defined.\n\t\t* Example:\n\ndef add(a, b):\n    return a + b\nprint(add(2, 3))  # 2 and 3 are positional arguments\n\n\t* Keyword Arguments:\n\t\t* Passed using the parameter name explicitly, allowing out-of-order specification.\n\t\t* Example:\n\nprint(add(b=3, a=2))  # Keyword arguments\n\n\t* Default Arguments:\n\t\t* Parameters can have default values, making them optional when calling the function.\n\t\t* Example:\n\ndef greet(name=\"Guest\"):\n    return f\"Hello, {name}!\"\nprint(greet())  # Uses the default value \"Guest\"\n\n\t* Variable-Length Arguments:\n\t\t* Allow passing an arbitrary number of arguments.\n\t\t* Two types:\n\t\t\t* *args for non-keyword arguments:\n\ndef sum_all(*args):\n    return sum(args)\nprint(sum_all(1, 2, 3, 4))  # Outputs 10\n\n\t\t\t* **kwargs for keyword arguments:\n\ndef print_details(**kwargs):\n    for key, value in kwargs.items():\n        print(f\"{key}: {value}\")\nprint_details(name=\"Alice\", age=25)\n\n\nBy combining parameters and arguments effectively, Python functions can be made highly flexible and reusable.",
      "metadata": {}
    },
    {
      "id": "020fe6b6-72d9-4be0-8906-d8d5a12eddbd",
      "cell_type": "markdown",
      "source": "Q3.  What are the different ways to define and call a function in Python?\n\nANS-",
      "metadata": {}
    },
    {
      "id": "bfdddf41-06b9-41bf-a9e2-1e0ffed37fc1",
      "cell_type": "markdown",
      "source": "In Python, functions can be defined and called in various ways to suit different needs. Below are the key methods:\n\n1. Defining a Function\n   Functions are defined using the def keyword, followed by the function name, parentheses (which may include parameters), and a colon. The function body is indented.\n\n   ```python\n   def greet(name):\n       return f\"Hello, {name}!\"\n   ```\n\n2. Calling a Function\n   Functions are called by using their name followed by parentheses, with arguments passed inside the parentheses if required.\n\n   ```python\n   print(greet(\"Alice\"))  # Output: Hello, Alice!\n   ```\n\n3. Different Types of Functions\n\t* Simple Functions: Functions with no parameters.\n\ndef say_hello():\n    return \"Hello!\"\nprint(say_hello())  # Output: Hello!\n\n\t* Functions with Parameters: Functions that take inputs.\n\ndef add(a, b):\n    return a + b\nprint(add(2, 3))  # Output: 5\n\n\t* Functions with Default Parameters: Parameters with default values.\n\ndef greet(name=\"Guest\"):\n    return f\"Hello, {name}!\"\nprint(greet())  # Output: Hello, Guest!\n\n\t* Lambda Functions: Anonymous functions defined using the lambda keyword.\n\nsquare = lambda x: x ** 2\nprint(square(4))  # Output: 16\n\n\t* Recursive Functions: Functions that call themselves.\n\ndef factorial(n):\n    if n == 0:\n        return 1\n    return n * factorial(n - 1)\nprint(factorial(5))  # Output: 120\n\n\n4. Variable-Length Arguments\n\t* Using *args: For passing a variable number of non-keyword arguments.\n\ndef sum_all(*args):\n    return sum(args)\nprint(sum_all(1, 2, 3, 4))  # Output: 10\n\n\t* Using **kwargs: For passing a variable number of keyword arguments.\n\ndef print_details(**kwargs):\n    for key, value in kwargs.items():\n        print(f\"{key}: {value}\")\nprint_details(name=\"Alice\", age=25)\n\n\n5. Calling Functions with Different Argument Types\n\t* Positional Arguments: Arguments passed in the same order as parameters.\n\nprint(add(2, 3))  # Output: 5\n\n\t* Keyword Arguments: Arguments passed with parameter names.\n\nprint(add(b=3, a=2))  # Output: 5\n\n\t* Mixing Positional and Keyword Arguments:\n\ndef display_info(name, age):\n    print(f\"Name: {name}, Age: {age}\")\ndisplay_info(\"Alice\", age=25)\n\n\nBy using these methods, Python functions can be tailored for a wide range of use cases, making them highly versatile and reusable.",
      "metadata": {}
    },
    {
      "id": "ed63d01f-9c22-409f-87fc-177ac15b3253",
      "cell_type": "markdown",
      "source": "Q4. What is the purpose of the `return` statement in a Python function?\n\nANS- ",
      "metadata": {}
    },
    {
      "id": "99aa43b5-98ea-4ec9-846e-d0b7e8174219",
      "cell_type": "markdown",
      "source": "The purpose of the return statement in a Python function is to send a value back to the caller of the function. It terminates the function's execution and specifies the value that should be returned to the point where the function was called. If no return statement is used, the function returns None by default.\n\nKey Points:\n\t1. Return a Value: The return statement allows a function to output a value that can be used elsewhere in the program.\n\ndef add(a, b):\n    return a + b\n\nresult = add(3, 5)\nprint(result)  # Output: 8\n\n\t2. Terminate Execution: The return statement immediately ends the function's execution.\n\ndef check_even(num):\n    if num % 2 == 0:\n        return True\n    return False\n\nprint(check_even(4))  # Output: True\n\n\t3. Return Multiple Values: You can return multiple values as a tuple.\n\ndef get_coordinates():\n    return 10, 20\n\nx, y = get_coordinates()\nprint(x, y)  # Output: 10 20\n\n\t4. Default Return Value: If no return statement is used, the function returns None.\n\ndef greet():\n    print(\"Hello!\")\n\nresult = greet()\nprint(result)  # Output: Hello! None\n\n\nThe return statement is essential for creating reusable and modular code, as it allows functions to process data and provide results to other parts of the program.",
      "metadata": {}
    },
    {
      "id": "7b3bb2b2-8198-46f4-8949-50c7be0fb14e",
      "cell_type": "markdown",
      "source": "Q5.  What are iterators in Python and how do they differ from iterables?\n\nANS -",
      "metadata": {}
    },
    {
      "id": "bb0c6407-d4fe-4718-8d1d-14c8593438b5",
      "cell_type": "markdown",
      "source": "Iterators in Python are objects that represent a stream of data. They allow you to traverse through all the elements of a collection (like lists, tuples, or dictionaries) one at a time. Iterators are implemented using two key methods:\n\n\t1. __iter__(): Returns the iterator object itself.\n\t2. __next__(): Returns the next value from the iterator. If there are no more items, it raises a StopIteration exception.\n\nExample of an Iterator:\nmy_list = [1, 2, 3]\niterator = iter(my_list)  # Create an iterator object\n\nprint(next(iterator))  # Output: 1\nprint(next(iterator))  # Output: 2\nprint(next(iterator))  # Output: 3\n\nDifference Between Iterators and Iterables:\n\t1. Iterable:\n\n\n\t\t* An iterable is any Python object that can return an iterator using the iter() function.\n\t\t* Examples: Lists, tuples, strings, dictionaries, and sets.\n\t\t* It does not have a __next__() method but must have an __iter__() method.\n\t2. Iterator:\n\n\n\t\t* An iterator is an object that can be iterated upon (one element at a time) using the next() function.\n\t\t* It must implement both __iter__() and __next__() methods.\n\nKey Differences:\n| Feature         | Iterable                       | Iterator                          |\n|-----------------|--------------------------------|-----------------------------------                |\n| Definition      | Can be converted to an iterator using iter(). | Already an iterator object.        |\n| Methods         | Must have __iter__() method.   | Must have both __iter__() and __next__() methods. |\n| Usage           | Used to create an iterator.    | Used to traverse through elements.                |\n| Example         | Lists, strings, tuples, etc.   | Objects created using iter().                     |\n\nExample of Conversion:\nmy_list = [1, 2, 3]  # Iterable\niterator = iter(my_list)  # Convert iterable to iterator\n\nprint(next(iterator))  # Output: 1\n\nIterators are useful for memory-efficient looping, especially when working with large datasets or infinite sequences.",
      "metadata": {}
    },
    {
      "id": "df226ce1-f5d3-4190-9f26-7e33d9d13a8a",
      "cell_type": "markdown",
      "source": "Q6. Explain the concept of generators in Python and how they are defined.\n\nANS -",
      "metadata": {}
    },
    {
      "id": "ed199362-f888-4bb3-92fb-8d7e7d15c744",
      "cell_type": "markdown",
      "source": "Generators in Python are a special type of iterable that allow you to produce a sequence of values lazily, meaning they generate values on the fly and do not store them in memory. They are particularly useful for handling large datasets or infinite sequences efficiently.\n\nHow Generators Are Defined:\nGenerators are defined using either:\n\n\t1. Generator Functions: These are functions that use the yield keyword to return values one at a time.\n\t2. Generator Expressions: These are similar to list comprehensions but use parentheses () instead of square brackets [].\n\n----\n\n1. Generator Functions\nA generator function is defined like a normal function but contains one or more yield statements. When the function is called, it returns a generator object without executing the function. The function's code runs only when next() is called on the generator object.\n\nExample:\ndef my_generator():\n    yield 1\n    yield 2\n    yield 3\n\ngen = my_generator()  # Create generator object\nprint(next(gen))  # Output: 1\nprint(next(gen))  # Output: 2\nprint(next(gen))  # Output: 3\n\n----\n\n2. Generator Expressions\nGenerator expressions are a concise way to create generators. They are written similarly to list comprehensions but use parentheses.\n\nExample:\ngen_exp = (x**2 for x in range(5))  # Generator expression\nprint(next(gen_exp))  # Output: 0\nprint(next(gen_exp))  # Output: 1\nprint(next(gen_exp))  # Output: 4\n\n----\n\nKey Features of Generators:\n\t1. Lazy Evaluation: Values are generated only when requested, saving memory.\n\t2. State Retention: Generators maintain their state between calls, so they resume execution from where they left off.\n\t3. StopIteration: When the generator has no more values to yield, it raises a StopIteration exception.\n\n----\n\nAdvantages of Generators:\n\t* Memory Efficiency: They do not store the entire sequence in memory.\n\t* Infinite Sequences: Generators can represent infinite sequences, unlike lists.\n\t* Improved Performance: They are faster for large datasets as they avoid the overhead of creating and storing large data structures.\n\nGenerators are a powerful tool in Python for writing clean, efficient, and memory-friendly code. They are widely used in scenarios like data streaming, file processing, and asynchronous programming.",
      "metadata": {}
    },
    {
      "id": "ed065ce5-e4d1-4c89-8724-ae265e1c7cb6",
      "cell_type": "markdown",
      "source": "Q7. What are the advantages of using generators over regular functions?\n\nANS- ",
      "metadata": {}
    },
    {
      "id": "6f0c40e2-7b01-4b03-9295-533da192715d",
      "cell_type": "markdown",
      "source": "\t1. Memory Efficiency: Generators produce values on the fly and do not store the entire sequence in memory. This makes them highly efficient for handling large datasets or infinite sequences.\n\n\t2. Lazy Evaluation: Generators generate values only when they are requested, avoiding unnecessary computations and saving processing time.\n\n\t3. State Retention: Generators maintain their state between calls, allowing them to resume execution from where they left off. This is particularly useful for iterating over large datasets.\n\n\t4. Improved Performance: Generators avoid the overhead of creating and storing large data structures, making them faster and more efficient for large-scale computations.\n\n\t5. Support for Infinite Sequences: Unlike lists, generators can represent infinite sequences, as they generate values dynamically without requiring memory to store all elements.\n\n\t6. Simpler Code: Generators often lead to cleaner and more readable code, especially when dealing with complex iteration logic.\n\n\t7. Reduced Overhead: Generators eliminate the need to create intermediate data structures, reducing both memory usage and computational overhead.\n\n\t8. Integration with Iteration: Generators are natively compatible with Python's iteration tools, such as for loops, making them easy to use in various scenarios.\n\n\nOverall, generators are a powerful tool for writing efficient, scalable, and memory-friendly code.",
      "metadata": {}
    },
    {
      "id": "2ee7677f-eb7c-4186-a18a-c58d1102de90",
      "cell_type": "markdown",
      "source": "Q8.  What is a lambda function in Python and when is it typically used?\n\nANS-",
      "metadata": {}
    },
    {
      "id": "9c2e8e35-6e8f-4a61-aeb6-19d5f35dc674",
      "cell_type": "markdown",
      "source": "A lambda function in Python is a small, anonymous function defined using the lambda keyword. Unlike regular functions defined with the def keyword, lambda functions are written in a single line and can have any number of arguments but only one expression. The result of the expression is automatically returned.\n\nSyntax:\nlambda arguments: expression\n\nExample:\n# Lambda function to add two numbers\nadd = lambda x, y: x + y\nprint(add(5, 3))  # Output: 8\n\nTypical Uses:\n\t1. Short-lived Functions: Lambda functions are often used when a small function is needed temporarily, such as within another function or as an argument to higher-order functions.\n\n\t2. Higher-Order Functions: They are commonly used with functions like map(), filter(), and reduce() for concise and readable code.\n\n# Using lambda with map\nnumbers = [1, 2, 3, 4]\nsquares = map(lambda x: x**2, numbers)\nprint(list(squares))  # Output: [1, 4, 9, 16]\n\n\t3. Sorting: Lambda functions are often used as the key argument in sorting operations.\n\n# Sorting a list of tuples by the second element\ndata = [(1, 'b'), (2, 'a'), (3, 'c')]\nsorted_data = sorted(data, key=lambda x: x[1])\nprint(sorted_data)  # Output: [(2, 'a'), (1, 'b'), (3, 'c')]\n\n\t4. Inline Operations: Lambda functions are ideal for simple operations that don't require a full function definition.\n\n\nAdvantages:\n\t* Concise and compact.\n\t* Eliminates the need for defining and naming a function when it's only used once.\n\nLimitations:\n\t* Limited to a single expression, making them unsuitable for complex logic.\n\t* Can sometimes reduce code readability when overused.\n\nLambda functions are a powerful tool for writing concise and functional-style Python code.",
      "metadata": {}
    },
    {
      "id": "1ec020f0-2a09-4eed-9552-818dd77a73d3",
      "cell_type": "markdown",
      "source": "Q9. Explain the purpose and usage of the `map()` function in Python.\n\nANS- ",
      "metadata": {}
    },
    {
      "id": "ca4bfe4c-ee37-4080-b2e0-d00f10003b9e",
      "cell_type": "markdown",
      "source": "The map() function in Python is used to apply a given function to each item in an iterable (like a list, tuple, or set) and returns a map object (an iterator) containing the results. It is particularly useful for performing transformations or computations on a collection of data in a concise and efficient manner.\n\nSyntax:\nmap(function, iterable, ...)\n\n\t* function: The function to apply to each item in the iterable.\n\t* iterable: The data structure (e.g., list, tuple) whose elements the function will process.\n\t* Additional iterables can be passed if the function takes multiple arguments.\n\nPurpose:\nThe primary purpose of map() is to simplify the process of applying a function to all elements in an iterable without the need for explicit loops.\n\nExample Usage:\n\t1. Basic Example:\nApplying a function to square each number in a list:\n\nnumbers = [1, 2, 3, 4]\nsquares = map(lambda x: x**2, numbers)\nprint(list(squares))  # Output: [1, 4, 9, 16]\n\n\t2. Using Multiple Iterables:\nAdding corresponding elements from two lists:\n\nlist1 = [1, 2, 3]\nlist2 = [4, 5, 6]\nsums = map(lambda x, y: x + y, list1, list2)\nprint(list(sums))  # Output: [5, 7, 9]\n\n\t3. Using a Predefined Function:\nConverting a list of strings to uppercase:\n\ndef to_uppercase(s):\n    return s.upper()\n\nstrings = ['hello', 'world']\nuppercased = map(to_uppercase, strings)\nprint(list(uppercased))  # Output: ['HELLO', 'WORLD']\n\n\nAdvantages:\n\t* Eliminates the need for explicit loops, making code more concise and readable.\n\t* Works efficiently with large datasets since it returns an iterator.\n\nNotes:\n\t* The result of map() is a map object, which is an iterator. To view the results, you need to convert it to a list or another iterable type.\n\t* If the function is None, map() simply returns the items from the iterable.\n\nThe map() function is a powerful tool for functional programming in Python, enabling concise and efficient data transformations.",
      "metadata": {}
    },
    {
      "id": "388959e7-759a-4cf2-9218-cf00546b7440",
      "cell_type": "markdown",
      "source": "Q10.  What is the difference between `map()`, `reduce()`, and `filter()` functions in Python?\n\nANS- ",
      "metadata": {}
    },
    {
      "id": "6b232b57-7650-4c15-ac2a-18c786a49620",
      "cell_type": "markdown",
      "source": "The map(), reduce(), and filter() functions in Python are used for functional programming and allow you to process and transform iterables efficiently. Here's a breakdown of their differences:\n\n1. map()\n\t* Purpose: Applies a given function to each item in an iterable and returns an iterator with the results.\n\t* Use Case: Transforming data by applying a function to every element.\n\t* Syntax: map(function, iterable, ...)\n\t* Example:\n\nnumbers = [1, 2, 3, 4]\nsquares = map(lambda x: x**2, numbers)\nprint(list(squares))  # Output: [1, 4, 9, 16]\n\n\n----\n\n2. reduce()\n\t* Purpose: Applies a function cumulatively to the items in an iterable, reducing it to a single value.\n\t* Use Case: Aggregating data (e.g., summing, multiplying, or finding the maximum).\n\t* Syntax: reduce(function, iterable[, initializer])\n\t* Note: reduce() is not a built-in function and must be imported from functools.\n\t* Example:\n\nfrom functools import reduce\nnumbers = [1, 2, 3, 4]\ntotal = reduce(lambda x, y: x + y, numbers)\nprint(total)  # Output: 10\n\n\n----\n\n3. filter()\n\t* Purpose: Filters elements from an iterable based on a function that returns True or False.\n\t* Use Case: Extracting elements that satisfy a condition.\n\t* Syntax: filter(function, iterable)\n\t* Example:\n\nnumbers = [1, 2, 3, 4, 5]\neven_numbers = filter(lambda x: x % 2 == 0, numbers)\nprint(list(even_numbers))  # Output: [2, 4]\n\n\n----\n\nKey Differences:\n| Function  | Purpose                            | Returns         | Use Case                     |\n|-----------|------------------------------------|-----------------|------------------------------|\n| map()     | Applies a function to each item    | Iterator        | Transforming data            |\n| reduce()  | Reduces iterable to a single value | Single value    | Aggregating data             |\n| filter()  | Filters items based on a condition | Iterator        | Extracting specific elements |\n\nEach function serves a distinct purpose, and their usage depends on the specific task you want to perform on your data.",
      "metadata": {}
    },
    {
      "id": "04fadbcb-71cf-4893-ae40-9cce1757f773",
      "cell_type": "markdown",
      "source": "Q.11  Using pen & Paper write the internal mechanism for sum operation using  reduce function on this given\nlist:[47,11,42,13]; \n\nANS- ",
      "metadata": {}
    },
    {
      "id": "424d2e6e-c42c-4c67-9ed4-363af251b1c3",
      "cell_type": "markdown",
      "source": "To explain the internal mechanism of the reduce function for summing the list [47, 11, 42, 13], let's break it down step by step:\n\nCode Example:\nfrom functools import reduce\n\nnumbers = [47, 11, 42, 13]\nresult = reduce(lambda x, y: x + y, numbers)\nprint(result)  # Output: 113\n\nInternal Mechanism:\nThe reduce function works by applying the provided function (in this case, a lambda function for addition) cumulatively to the elements of the list. Here's how it proceeds:\n\n\t1. Initialization:\n\n\n\t\t* The first two elements of the list are taken: 47 and 11.\n\t\t* The lambda function is applied: 47 + 11 = 58.\n\t2. First Iteration:\n\n\n\t\t* The result from the previous step (58) is combined with the next element in the list (42).\n\t\t* The lambda function is applied: 58 + 42 = 100.\n\t3. Second Iteration:\n\n\n\t\t* The result from the previous step (100) is combined with the next element in the list (13).\n\t\t* The lambda function is applied: 100 + 13 = 113.\n\t4. Final Result:\n\n\n\t\t* The final cumulative result is 113.\n\nStep-by-Step Breakdown:\n| Step | x   | y   | x + y | Result |\n|------|-----|-----|-------|--------|\n| 1    | 47  | 11  | 58    | 58     |\n| 2    | 58  | 42  | 100   | 100    |\n| 3    | 100 | 13  | 113   | 113    |\n\nFinal Output:\nThe sum of the list [47, 11, 42, 13] using reduce is 113.\n\nThis is how the internal mechanism of the reduce function works for the given sum operation.",
      "metadata": {}
    },
    {
      "id": "ddf261a8-c472-41f7-8896-c33a946f8bf4",
      "cell_type": "markdown",
      "source": "",
      "metadata": {}
    },
    {
      "id": "1f93f663-b23e-4fdb-92fc-b7e4b5b9281f",
      "cell_type": "markdown",
      "source": "PRACTICAL QUESTIONS",
      "metadata": {}
    },
    {
      "id": "f4266d95-1405-4ce4-aed5-989056360785",
      "cell_type": "markdown",
      "source": "Q1.  Write a Python function that takes a list of numbers as input and returns the sum of all even numbers in\nthe list.\n\nANS- ",
      "metadata": {}
    },
    {
      "id": "80e34f09-b190-4d6e-8bb5-388f32c00edf",
      "cell_type": "code",
      "source": "def sum_of_even_numbers(numbers):\n    \"\"\"\n    This function takes a list of numbers as input and returns the sum of all even numbers in the list.\n    \n    :param numbers: List of integers\n    :return: Sum of all even numbers in the list\n    \"\"\"\n    return sum(num for num in numbers if num % 2 == 0)\n\n# Example usage:\nnumbers = [1, 2, 3, 4, 5, 6]\nresult = sum_of_even_numbers(numbers)\nprint(\"Sum of even numbers:\", result)  # Output: Sum of even numbers: 12",
      "metadata": {
        "trusted": true
      },
      "outputs": [
        {
          "name": "stdout",
          "output_type": "stream",
          "text": "Sum of even numbers: 12\n"
        }
      ],
      "execution_count": 21
    },
    {
      "id": "065df8b5-3ff4-456d-bbfd-0cb8249de62c",
      "cell_type": "markdown",
      "source": "Q2. Create a Python function that accepts a string and returns the reverse of that string.\n\nANS- ",
      "metadata": {}
    },
    {
      "id": "27651333-eb02-4042-8ab5-14b93e4e1d14",
      "cell_type": "code",
      "source": "def reverse_string(input_string):\n    \"\"\"\n    This function takes a string as input and returns the reverse of that string.\n\n    :param input_string: The string to be reversed\n    :return: The reversed string\n    \"\"\"\n    return input_string[::-1]\n\n# Example usage:\nstring = \"ASADAD\"\nreversed_string = reverse_string(string)\nprint(\"Reversed string:\", reversed_string)  # Output: DADAS",
      "metadata": {
        "trusted": true
      },
      "outputs": [
        {
          "name": "stdout",
          "output_type": "stream",
          "text": "Reversed string: DADASA\n"
        }
      ],
      "execution_count": 22
    },
    {
      "id": "ee72ef4a-687e-4a8d-8bf4-0f80ea80c4c0",
      "cell_type": "markdown",
      "source": "Q3. Implement a Python function that takes a list of integers and returns a new list containing the squares of\neach number.\n\nANS- ",
      "metadata": {}
    },
    {
      "id": "b79b8731-0340-4a29-af55-d9f8368228d6",
      "cell_type": "code",
      "source": "def square_numbers(numbers):\n    \"\"\"\n    This function takes a list of integers and returns a new list containing the squares of each number.\n\n    :param numbers: List of integers\n    :return: List of squares of the integers\n    \"\"\"\n    return [num ** 2 for num in numbers]\n\n# Example usage:\nnumbers = [1, 2, 3, 4, 5]\nsquared_numbers = square_numbers(numbers)\nprint(\"Squared numbers:\", squared_numbers)  # Output: Squared numbers: [1, 4, 9, 16, 25]",
      "metadata": {
        "trusted": true
      },
      "outputs": [
        {
          "name": "stdout",
          "output_type": "stream",
          "text": "Squared numbers: [1, 4, 9, 16, 25]\n"
        }
      ],
      "execution_count": 23
    },
    {
      "id": "daf9809e-1214-4008-8e72-96ae150c8f14",
      "cell_type": "markdown",
      "source": "Q4.  Write a Python function that checks if a given number is prime or not from 1 to 200.\n\nANS- ",
      "metadata": {}
    },
    {
      "id": "a7656635-675f-49f9-81e6-92f3ef0494fe",
      "cell_type": "code",
      "source": "def is_prime(number):\n    \"\"\"\n    This function checks if a given number is prime or not.\n    \n    :param number: The number to check\n    :return: True if the number is prime, False otherwise\n    \"\"\"\n    if number <= 1:\n        return False\n    for i in range(2, int(number ** 0.5) + 1):\n        if number % i == 0:\n            return False\n    return True\n\n# Example usage:\nfor num in range(1, 201):\n    if is_prime(num):\n        print(f\"{num} is a prime number.\")\n    else:\n        print(f\"{num} is not a prime number.\")\n",
      "metadata": {
        "trusted": true
      },
      "outputs": [
        {
          "name": "stdout",
          "output_type": "stream",
          "text": "1 is not a prime number.\n2 is a prime number.\n3 is a prime number.\n4 is not a prime number.\n5 is a prime number.\n6 is not a prime number.\n7 is a prime number.\n8 is not a prime number.\n9 is not a prime number.\n10 is not a prime number.\n11 is a prime number.\n12 is not a prime number.\n13 is a prime number.\n14 is not a prime number.\n15 is not a prime number.\n16 is not a prime number.\n17 is a prime number.\n18 is not a prime number.\n19 is a prime number.\n20 is not a prime number.\n21 is not a prime number.\n22 is not a prime number.\n23 is a prime number.\n24 is not a prime number.\n25 is not a prime number.\n26 is not a prime number.\n27 is not a prime number.\n28 is not a prime number.\n29 is a prime number.\n30 is not a prime number.\n31 is a prime number.\n32 is not a prime number.\n33 is not a prime number.\n34 is not a prime number.\n35 is not a prime number.\n36 is not a prime number.\n37 is a prime number.\n38 is not a prime number.\n39 is not a prime number.\n40 is not a prime number.\n41 is a prime number.\n42 is not a prime number.\n43 is a prime number.\n44 is not a prime number.\n45 is not a prime number.\n46 is not a prime number.\n47 is a prime number.\n48 is not a prime number.\n49 is not a prime number.\n50 is not a prime number.\n51 is not a prime number.\n52 is not a prime number.\n53 is a prime number.\n54 is not a prime number.\n55 is not a prime number.\n56 is not a prime number.\n57 is not a prime number.\n58 is not a prime number.\n59 is a prime number.\n60 is not a prime number.\n61 is a prime number.\n62 is not a prime number.\n63 is not a prime number.\n64 is not a prime number.\n65 is not a prime number.\n66 is not a prime number.\n67 is a prime number.\n68 is not a prime number.\n69 is not a prime number.\n70 is not a prime number.\n71 is a prime number.\n72 is not a prime number.\n73 is a prime number.\n74 is not a prime number.\n75 is not a prime number.\n76 is not a prime number.\n77 is not a prime number.\n78 is not a prime number.\n79 is a prime number.\n80 is not a prime number.\n81 is not a prime number.\n82 is not a prime number.\n83 is a prime number.\n84 is not a prime number.\n85 is not a prime number.\n86 is not a prime number.\n87 is not a prime number.\n88 is not a prime number.\n89 is a prime number.\n90 is not a prime number.\n91 is not a prime number.\n92 is not a prime number.\n93 is not a prime number.\n94 is not a prime number.\n95 is not a prime number.\n96 is not a prime number.\n97 is a prime number.\n98 is not a prime number.\n99 is not a prime number.\n100 is not a prime number.\n101 is a prime number.\n102 is not a prime number.\n103 is a prime number.\n104 is not a prime number.\n105 is not a prime number.\n106 is not a prime number.\n107 is a prime number.\n108 is not a prime number.\n109 is a prime number.\n110 is not a prime number.\n111 is not a prime number.\n112 is not a prime number.\n113 is a prime number.\n114 is not a prime number.\n115 is not a prime number.\n116 is not a prime number.\n117 is not a prime number.\n118 is not a prime number.\n119 is not a prime number.\n120 is not a prime number.\n121 is not a prime number.\n122 is not a prime number.\n123 is not a prime number.\n124 is not a prime number.\n125 is not a prime number.\n126 is not a prime number.\n127 is a prime number.\n128 is not a prime number.\n129 is not a prime number.\n130 is not a prime number.\n131 is a prime number.\n132 is not a prime number.\n133 is not a prime number.\n134 is not a prime number.\n135 is not a prime number.\n136 is not a prime number.\n137 is a prime number.\n138 is not a prime number.\n139 is a prime number.\n140 is not a prime number.\n141 is not a prime number.\n142 is not a prime number.\n143 is not a prime number.\n144 is not a prime number.\n145 is not a prime number.\n146 is not a prime number.\n147 is not a prime number.\n148 is not a prime number.\n149 is a prime number.\n150 is not a prime number.\n151 is a prime number.\n152 is not a prime number.\n153 is not a prime number.\n154 is not a prime number.\n155 is not a prime number.\n156 is not a prime number.\n157 is a prime number.\n158 is not a prime number.\n159 is not a prime number.\n160 is not a prime number.\n161 is not a prime number.\n162 is not a prime number.\n163 is a prime number.\n164 is not a prime number.\n165 is not a prime number.\n166 is not a prime number.\n167 is a prime number.\n168 is not a prime number.\n169 is not a prime number.\n170 is not a prime number.\n171 is not a prime number.\n172 is not a prime number.\n173 is a prime number.\n174 is not a prime number.\n175 is not a prime number.\n176 is not a prime number.\n177 is not a prime number.\n178 is not a prime number.\n179 is a prime number.\n180 is not a prime number.\n181 is a prime number.\n182 is not a prime number.\n183 is not a prime number.\n184 is not a prime number.\n185 is not a prime number.\n186 is not a prime number.\n187 is not a prime number.\n188 is not a prime number.\n189 is not a prime number.\n190 is not a prime number.\n191 is a prime number.\n192 is not a prime number.\n193 is a prime number.\n194 is not a prime number.\n195 is not a prime number.\n196 is not a prime number.\n197 is a prime number.\n198 is not a prime number.\n199 is a prime number.\n200 is not a prime number.\n"
        }
      ],
      "execution_count": 24
    },
    {
      "id": "be42f491-71cc-41c6-98a2-2e890498a303",
      "cell_type": "markdown",
      "source": "Q5.  Create an iterator class in Python that generates the Fibonacci sequence up to a specified number of\nterms.",
      "metadata": {}
    },
    {
      "id": "18b6a623-b38c-456d-a1be-c0f5c5e7da88",
      "cell_type": "code",
      "source": "\nclass FibonacciIterator:\n    def __init__(self, num_terms):\n        \"\"\"\n        Initialize the iterator with the number of terms to generate.\n        :param num_terms: The number of terms in the Fibonacci sequence.\n        \"\"\"\n        self.num_terms = num_terms\n        self.current = 0\n        self.next = 1\n        self.count = 0\n\n    def __iter__(self):\n        \"\"\"\n        Returns the iterator object itself.\n        \"\"\"\n        return self\n\n    def __next__(self):\n        \"\"\"\n        Returns the next number in the Fibonacci sequence.\n        Raises StopIteration when the specified number of terms is reached.\n        \"\"\"\n        if self.count >= self.num_terms:\n            raise StopIteration\n        if self.count == 0:\n            self.count += 1\n            return self.current\n        elif self.count == 1:\n            self.count += 1\n            return self.next\n        else:\n            fib = self.current + self.next\n            self.current, self.next = self.next, fib\n            self.count += 1\n            return fib\n\n# Example usage:\nnum_terms = 10  # Specify the number of terms\nfib_iterator = FibonacciIterator(num_terms)\n\nprint(f\"Fibonacci sequence up to {num_terms} terms:\")\nfor number in fib_iterator:\n    print(number)\n\n",
      "metadata": {
        "trusted": true
      },
      "outputs": [
        {
          "name": "stdout",
          "output_type": "stream",
          "text": "Fibonacci sequence up to 10 terms:\n0\n1\n1\n2\n3\n5\n8\n13\n21\n34\n"
        }
      ],
      "execution_count": 25
    },
    {
      "id": "fe7589b2-c71b-4ea7-b941-2ca3b0c46509",
      "cell_type": "markdown",
      "source": "Q6. . Write a generator function in Python that yields the powers of 2 up to a given exponent.\n\nANS- ",
      "metadata": {}
    },
    {
      "id": "2d0666f7-4ceb-46e2-a3fb-2b142a6b4cd8",
      "cell_type": "code",
      "source": "def powers_of_two(max_exponent):\n    \"\"\"\n    A generator function that yields the powers of 2 up to the given exponent.\n    \n    :param max_exponent: The maximum exponent for 2^n.\n    \"\"\"\n    for exponent in range(max_exponent + 1):\n        yield 2 ** exponent\n\n# Example usage:\nmax_exponent = 10  # Specify the maximum exponent\nprint(f\"Powers of 2 up to 2^{max_exponent}:\")\nfor power in powers_of_two(max_exponent):\n    print(power)",
      "metadata": {
        "trusted": true
      },
      "outputs": [
        {
          "name": "stdout",
          "output_type": "stream",
          "text": "Powers of 2 up to 2^10:\n1\n2\n4\n8\n16\n32\n64\n128\n256\n512\n1024\n"
        }
      ],
      "execution_count": 26
    },
    {
      "id": "989db427-c12e-49d6-b255-3ba061a0e062",
      "cell_type": "markdown",
      "source": "Q7. Implement a generator function that reads a file line by line and yields each line as a string.\n\nANS- ",
      "metadata": {}
    },
    {
      "id": "44280888-6c11-4986-8c8c-ee2c30f5e2a9",
      "cell_type": "code",
      "source": "def read_file_line_by_line(file_path):\n    \"\"\"\n    A generator function that reads a file line by line and yields each line as a string.\n\n    :param file_path: The path to the file to be read.\n    \"\"\"\n    try:\n        with open(file_path, 'r') as file:\n            for line in file:\n                yield line.strip()  # Strip removes leading/trailing whitespace\n    except FileNotFoundError:\n        print(f\"The file at {file_path} was not found.\")\n    except Exception as e:\n        print(f\"An error occurred: {e}\")\n\n# Example usage:\n# Replace 'example.txt' with the path to your file\nfile_path = 'example.txt'\n\nprint(\"Reading file line by line:\")\nfor line in read_file_line_by_line(file_path):\n    print(line)",
      "metadata": {
        "trusted": true
      },
      "outputs": [
        {
          "name": "stdout",
          "output_type": "stream",
          "text": "Reading file line by line:\nThe file at example.txt was not found.\n"
        }
      ],
      "execution_count": 27
    },
    {
      "id": "8919ed7d-01a0-474f-96c2-c6852a225ffb",
      "cell_type": "markdown",
      "source": "Q8. Use a lambda function in Python to sort a list of tuples based on the second element of each tuple.\n\nANS- ",
      "metadata": {}
    },
    {
      "id": "3a2940a8-3fff-41bd-bfb0-1c9827a4dd76",
      "cell_type": "code",
      "source": "# List of tuples\ntuples_list = [(1, 3), (4, 1), (2, 5), (3, 2)]\n\n# Sorting the list based on the second element of each tuple\nsorted_list = sorted(tuples_list, key=lambda x: x[1])\n\n# Printing the sorted list\nprint(\"Sorted list based on the second element of each tuple:\", sorted_list)",
      "metadata": {
        "trusted": true
      },
      "outputs": [
        {
          "name": "stdout",
          "output_type": "stream",
          "text": "Sorted list based on the second element of each tuple: [(4, 1), (3, 2), (1, 3), (2, 5)]\n"
        }
      ],
      "execution_count": 28
    },
    {
      "id": "3257cdd2-9ecc-4999-8f19-a211fdd04478",
      "cell_type": "markdown",
      "source": "Q9.  Write a Python program that uses `map()` to convert a list of temperatures from Celsius to Fahrenheit.\n\nANS- ",
      "metadata": {}
    },
    {
      "id": "cd581acb-4e25-4894-a40b-f453f046c470",
      "cell_type": "code",
      "source": "# List of temperatures in Celsius\ncelsius_temperatures = [0, 20, 37, 100]\n\n# Conversion formula: Fahrenheit = (Celsius * 9/5) + 32\nfahrenheit_temperatures = list(map(lambda c: (c * 9/5) + 32, celsius_temperatures))\n\n# Printing the result\nprint(\"Temperatures in Fahrenheit:\", fahrenheit_temperatures)\n",
      "metadata": {
        "trusted": true
      },
      "outputs": [
        {
          "name": "stdout",
          "output_type": "stream",
          "text": "Temperatures in Fahrenheit: [32.0, 68.0, 98.6, 212.0]\n"
        }
      ],
      "execution_count": 29
    },
    {
      "id": "da2c93a2-9748-49e9-906d-83d67bc610f4",
      "cell_type": "markdown",
      "source": "Q10. Create a Python program that uses `filter()` to remove all the vowels from a given string.\n\nANS- ",
      "metadata": {}
    },
    {
      "id": "0cd4490f-7ae3-48e2-afc8-7fb45cd40c13",
      "cell_type": "code",
      "source": "# Input string\ninput_string = \"This is an example string with vowels.\"\n\n# Defining vowels\nvowels = \"aeiouAEIOU\"\n\n# Using filter() to remove vowels\nfiltered_string = ''.join(filter(lambda char: char not in vowels, input_string))\n\n# Printing the result\nprint(\"String after removing vowels:\", filtered_string)",
      "metadata": {
        "trusted": true
      },
      "outputs": [
        {
          "name": "stdout",
          "output_type": "stream",
          "text": "String after removing vowels: Ths s n xmpl strng wth vwls.\n"
        }
      ],
      "execution_count": 30
    },
    {
      "id": "4459afd0-7d49-4c59-8418-a70218be544d",
      "cell_type": "markdown",
      "source": "Q11. Imagine an accounting routine used in a book shop. It works on a list with sublists, which look like this:\n\nANS-",
      "metadata": {}
    },
    {
      "id": "2e7c47b3-4e11-489b-9701-5ab64567fb7a",
      "cell_type": "code",
      "source": "# Data provided in the question\norders = [\n    [34587, \"Learning Python, Mark Lutz\", 4, 40.95],\n    [98762, \"Programming Python, Mark Lutz\", 5, 56.80],\n    [77226, \"Head First Python, Paul Barry\", 3, 32.95],\n    [88112, \"Einführung in Python3, Bernd Klein\", 3, 24.99]\n]\n\n# Using lambda and map to process the data\nresult = list(map(\n    lambda order: (order[0], round(order[2] * order[3] + (10 if order[2] * order[3] < 100 else 0), 2)),\n    orders\n))\n\n# Output the result\nprint(result)",
      "metadata": {
        "trusted": true
      },
      "outputs": [
        {
          "name": "stdout",
          "output_type": "stream",
          "text": "[(34587, 163.8), (98762, 284.0), (77226, 108.85), (88112, 84.97)]\n"
        }
      ],
      "execution_count": 31
    },
    {
      "id": "939a2170-44f2-4a65-9e4b-23f994973955",
      "cell_type": "markdown",
      "source": "THANKYOU ",
      "metadata": {}
    }
  ]
}